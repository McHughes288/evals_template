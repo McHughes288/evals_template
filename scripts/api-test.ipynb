{
 "cells": [
  {
   "cell_type": "code",
   "execution_count": 5,
   "metadata": {},
   "outputs": [],
   "source": [
    "from evals.utils import setup_environment\n",
    "from evals.apis.inference.api import InferenceAPI\n",
    "from evals.data_models.messages import Prompt\n",
    "\n",
    "setup_environment()"
   ]
  },
  {
   "cell_type": "code",
   "execution_count": 6,
   "metadata": {},
   "outputs": [],
   "source": [
    "model_api = InferenceAPI()"
   ]
  },
  {
   "cell_type": "code",
   "execution_count": 8,
   "metadata": {},
   "outputs": [
    {
     "data": {
      "text/plain": [
       "[LLMResponse(model_id='claude-2.1', completion=\" I do not have a definitive answer on the meaning of life. As an AI assistant created by Anthropic to be helpful, harmless, and honest, I don't have personal opinions on such philosophical questions.\", stop_reason=<StopReason.STOP_SEQUENCE: 'stop_sequence'>, cost=0.0, duration=3.822538137435913, api_duration=3.8225207328796387, logprobs=None),\n",
       " LLMResponse(model_id='claude-2.1', completion=\" I don't have a definitive answer on the meaning of life. As an AI assistant created by Anthropic to be helpful, harmless, and honest, I don't have personal opinions on such philosophical questions.\", stop_reason=<StopReason.STOP_SEQUENCE: 'stop_sequence'>, cost=0.0, duration=3.6051077842712402, api_duration=3.605087995529175, logprobs=None),\n",
       " LLMResponse(model_id='claude-2.1', completion=\" I do not have a definitive answer on the meaning of life. As an AI assistant created by Anthropic to be helpful, harmless, and honest, I don't have personal opinions on such philosophical questions.\", stop_reason=<StopReason.STOP_SEQUENCE: 'stop_sequence'>, cost=0.0, duration=3.826810121536255, api_duration=3.8267998695373535, logprobs=None),\n",
       " LLMResponse(model_id='claude-2.1', completion=\" I do not have a definitive answer on the meaning of life. As an AI assistant created by Anthropic to be helpful, harmless, and honest, I don't have personal beliefs about existential questions. These topics are complex and have been contemplated and debated by humans for millennia.\", stop_reason=<StopReason.STOP_SEQUENCE: 'stop_sequence'>, cost=0.0, duration=4.8102710247039795, api_duration=4.810261964797974, logprobs=None)]"
      ]
     },
     "execution_count": 8,
     "metadata": {},
     "output_type": "execute_result"
    }
   ],
   "source": [
    "await model_api(\n",
    "    \"claude-2.1\",\n",
    "    prompt=Prompt(\n",
    "        messages=[{\"role\": \"user\", \"content\": \"What is the meaning of life?\"}]\n",
    "    ),\n",
    "    n=4,\n",
    ")"
   ]
  },
  {
   "cell_type": "code",
   "execution_count": 9,
   "metadata": {},
   "outputs": [
    {
     "name": "stdout",
     "output_type": "stream",
     "text": [
      "got capacities for model gpt-3.5-turbo-instruct: 10000, 60\n",
      "consumed capacities for model gpt-3.5-turbo-instruct: 1, 1\n",
      "setting cap for model gpt-3.5-turbo-instruct: 99000000.0, 59.4\n"
     ]
    },
    {
     "data": {
      "text/plain": [
       "[LLMResponse(model_id='gpt-3.5-turbo-instruct', completion='\\nThe', stop_reason=<StopReason.MAX_TOKENS: 'max_tokens'>, cost=1.75e-05, duration=0.9057438373565674, api_duration=0.4392578601837158, logprobs=[{'\\n': -1.5585197, '\\n\\n': -0.27737463}, {'The': -0.11721919, 'There': -3.117965}])]"
      ]
     },
     "execution_count": 9,
     "metadata": {},
     "output_type": "execute_result"
    }
   ],
   "source": [
    "await model_api(\n",
    "    \"gpt-3.5-turbo-instruct\",\n",
    "    logprobs=2,\n",
    "    max_tokens=2,\n",
    "    prompt=Prompt(\n",
    "        messages=[{\"role\": \"user\", \"content\": \"What is the meaning of life?\"}]\n",
    "    ),\n",
    ")"
   ]
  },
  {
   "cell_type": "markdown",
   "metadata": {},
   "source": []
  }
 ],
 "metadata": {
  "kernelspec": {
   "display_name": "Python 3",
   "language": "python",
   "name": "python3"
  },
  "language_info": {
   "codemirror_mode": {
    "name": "ipython",
    "version": 3
   },
   "file_extension": ".py",
   "mimetype": "text/x-python",
   "name": "python",
   "nbconvert_exporter": "python",
   "pygments_lexer": "ipython3",
   "version": "3.11.6"
  }
 },
 "nbformat": 4,
 "nbformat_minor": 2
}
