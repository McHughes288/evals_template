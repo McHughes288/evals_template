{
 "cells": [
  {
   "cell_type": "code",
   "execution_count": 3,
   "metadata": {},
   "outputs": [
    {
     "name": "stdout",
     "output_type": "stream",
     "text": [
      "got capacities for model gpt-3.5-turbo: 2000000, 10000\n",
      "consumed capacities for model gpt-3.5-turbo: 20, 1\n",
      "setting cap for model gpt-3.5-turbo: 1980000.0, 9900.0\n",
      "Hello! How can I assist you today?\n"
     ]
    }
   ],
   "source": [
    "from evals.utils import setup_environment\n",
    "from evals.apis.inference.api import InferenceAPI\n",
    "from evals.apis.inference.cache_manager import CacheManager\n",
    "from evals.data_models.inference import LLMParams\n",
    "from evals.data_models.messages import Prompt\n",
    "\n",
    "from pathlib import Path\n",
    "\n",
    "setup_environment()\n",
    "model_api = InferenceAPI()\n",
    "cache_manager = CacheManager(Path(\"data/test_cache1\"))\n",
    "\n",
    "messages = [{\"role\": \"user\", \"content\": \"Hello!\"}]\n",
    "prompt = Prompt(messages=messages)\n",
    "llm_params = LLMParams(model=\"gpt-3.5-turbo\", temperature=0.4)\n",
    "\n",
    "cache = cache_manager.maybe_load_cache(prompt, llm_params)\n",
    "if cache is not None:\n",
    "    response = cache.responses[0].completion\n",
    "else:\n",
    "    responses = await model_api(\n",
    "                model_ids=llm_params.model,\n",
    "                prompt=prompt,\n",
    "                temperature=llm_params.temperature)\n",
    "    cache_manager.save_cache(prompt, llm_params, responses)\n",
    "    response = responses[0].completion\n",
    "print(response)\n"
   ]
  },
  {
   "cell_type": "code",
   "execution_count": null,
   "metadata": {},
   "outputs": [],
   "source": []
  }
 ],
 "metadata": {
  "kernelspec": {
   "display_name": ".venv",
   "language": "python",
   "name": "python3"
  },
  "language_info": {
   "codemirror_mode": {
    "name": "ipython",
    "version": 3
   },
   "file_extension": ".py",
   "mimetype": "text/x-python",
   "name": "python",
   "nbconvert_exporter": "python",
   "pygments_lexer": "ipython3",
   "version": "3.11.6"
  }
 },
 "nbformat": 4,
 "nbformat_minor": 2
}
