{
 "cells": [
  {
   "cell_type": "code",
   "execution_count": 13,
   "metadata": {},
   "outputs": [
    {
     "name": "stdout",
     "output_type": "stream",
     "text": [
      "The autoreload extension is already loaded. To reload it, use:\n",
      "  %reload_ext autoreload\n"
     ]
    }
   ],
   "source": [
    "%load_ext autoreload\n",
    "%autoreload 2"
   ]
  },
  {
   "cell_type": "code",
   "execution_count": 14,
   "metadata": {},
   "outputs": [],
   "source": [
    "import pathlib\n",
    "\n",
    "from evals.apis import InferenceAPI\n",
    "from evals.data_models import ChatMessage, MessageRole, Prompt\n",
    "from evals.utils import setup_environment\n",
    "\n",
    "setup_environment(logging_level=\"warning\")\n",
    "\n",
    "HOME_DIR = pathlib.Path.home()\n",
    "\n",
    "API = InferenceAPI(\n",
    "    cache_dir=HOME_DIR / \".cache\",\n",
    ")\n",
    "API_NO_CACHE = InferenceAPI(cache_dir=None)"
   ]
  },
  {
   "cell_type": "code",
   "execution_count": 15,
   "metadata": {},
   "outputs": [
    {
     "name": "stdout",
     "output_type": "stream",
     "text": [
      "got capacities for model gpt-3.5-turbo-0125: 5000000, 10000\n",
      "consumed capacities for model gpt-3.5-turbo-0125: 20, 1\n",
      "setting cap for model gpt-3.5-turbo-0125: 4000000.0, 8000.0\n",
      "got capacities for model gpt-3.5-turbo: 5000000, 10000\n",
      "consumed capacities for model gpt-3.5-turbo: 20, 1\n",
      "setting cap for model gpt-3.5-turbo: 4000000.0, 8000.0\n",
      "\u001b[97m==USER:\u001b[0m\n",
      "\u001b[36mWhat is your name?\u001b[0m\n",
      "\u001b[97m==RESPONSE 1 (gpt-3.5-turbo-0125):\u001b[0m\n",
      "\u001b[1m\u001b[92mI am a language model AI assistant and do not have a name. You can call me Assistant or just ask me your question. How can I assist you today?\u001b[0m\n",
      "\u001b[0m\n"
     ]
    }
   ],
   "source": [
    "prompt = Prompt(messages=[ChatMessage(content=\"What is your name?\", role=MessageRole.user)])\n",
    "\n",
    "response = await API_NO_CACHE(\n",
    "    model_ids=\"gpt-3.5-turbo\",\n",
    "    prompt=prompt,\n",
    "    print_prompt_and_response=True,\n",
    ")"
   ]
  },
  {
   "cell_type": "code",
   "execution_count": null,
   "metadata": {},
   "outputs": [],
   "source": []
  }
 ],
 "metadata": {
  "kernelspec": {
   "display_name": "Python 3",
   "language": "python",
   "name": "python3"
  },
  "language_info": {
   "codemirror_mode": {
    "name": "ipython",
    "version": 3
   },
   "file_extension": ".py",
   "mimetype": "text/x-python",
   "name": "python",
   "nbconvert_exporter": "python",
   "pygments_lexer": "ipython3",
   "version": "3.11.4"
  }
 },
 "nbformat": 4,
 "nbformat_minor": 2
}
